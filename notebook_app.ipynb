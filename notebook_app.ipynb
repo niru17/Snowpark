{
 "metadata": {
  "kernelspec": {
   "display_name": "Streamlit Notebook",
   "name": "streamlit"
  }
 },
 "nbformat_minor": 5,
 "nbformat": 4,
 "cells": [
  {
   "cell_type": "code",
   "id": "8bdf76d1-a469-4449-adae-53d0eef63a7f",
   "metadata": {
    "language": "python",
    "name": "cell4"
   },
   "outputs": [],
   "source": "%pip install snowflake-snowpark-python\n",
   "execution_count": null
  },
  {
   "cell_type": "code",
   "id": "3775908f-ca36-4846-8f38-5adca39217f2",
   "metadata": {
    "language": "python",
    "name": "cell1",
    "resultHeight": 0
   },
   "source": "# Import python packages\nimport streamlit as st\nimport pandas as pd\n\n# We can also use Snowpark for our analyses!\nfrom snowflake.snowpark.context import get_active_session\nsession = get_active_session()\n\n# from snowflake.snowpark import Session\n\n# # Snowflake connection parameters\n# connection_parameters = {\n#     \"account\": \"your_account\",\n#     \"user\": \"your_user\",\n#     \"password\": \"your_password\",\n#     \"role\": \"your_role\",\n#     \"warehouse\": \"COMPUTE_WH\",\n#     \"database\": \"MOVIES_DB\",\n#     \"schema\": \"PUBLIC\"\n# }\n\n# # Establish Snowflake session\n# session = Session.builder.configs(connection_parameters).create()\n",
   "execution_count": null,
   "outputs": []
  },
  {
   "cell_type": "code",
   "id": "8d50cbf4-0c8d-4950-86cb-114990437ac9",
   "metadata": {
    "language": "python",
    "name": "cell2",
    "codeCollapsed": false,
    "resultHeight": 351
   },
   "source": "# Load the raw_movie_bookings table\nraw_movie_bookings = session.table(\"raw_movie_bookings\")\n\n# Show a preview of the data\nraw_movie_bookings.show()",
   "execution_count": null,
   "outputs": []
  },
  {
   "cell_type": "code",
   "id": "c695373e-ac74-4b62-a1f1-08206cbd5c81",
   "metadata": {
    "language": "python",
    "name": "cell3",
    "codeCollapsed": false,
    "resultHeight": 133
   },
   "source": "from snowflake.snowpark.functions import col, lit, when\n\n# Filter completed bookings\ncompleted_bookings = raw_movie_bookings.filter(col(\"status\") == \"COMPLETED\")\n\n# Add a total_price column and high_value flag\ntransformed_df = completed_bookings.with_column(\n    \"total_price\", col(\"ticket_count\") * col(\"ticket_price\")\n).with_column(\n    \"high_value\", when(col(\"total_price\") > 50, lit(True)).otherwise(lit(False))\n)\n\n# Show transformed data\ntransformed_df.show()",
   "execution_count": null,
   "outputs": []
  },
  {
   "cell_type": "code",
   "id": "3c4c878d-8e88-4059-bd31-72f66abb36ea",
   "metadata": {
    "language": "python",
    "name": "cell5",
    "codeCollapsed": false,
    "resultHeight": 0
   },
   "outputs": [],
   "source": "# Save transformed data to a new table\ntransformed_df.write.save_as_table(\"high_value_bookings\", mode=\"overwrite\")",
   "execution_count": null
  },
  {
   "cell_type": "code",
   "id": "2ced87e4-d7e3-415b-856a-8a9232da41ca",
   "metadata": {
    "language": "python",
    "name": "cell6",
    "codeCollapsed": false,
    "resultHeight": 255
   },
   "outputs": [],
   "source": "from snowflake.snowpark.functions import sum, avg\n\n# Aggregate data\naggregated_df = raw_movie_bookings.group_by(\"movie_id\").agg(\n    sum(col(\"ticket_count\")).alias(\"total_tickets\"),\n    avg(col(\"ticket_price\")).alias(\"avg_ticket_price\"),\n    sum((col(\"ticket_count\") * col(\"ticket_price\"))).alias(\"total_revenue\")\n)\n\n# Show aggregated data\naggregated_df.show()",
   "execution_count": null
  },
  {
   "cell_type": "code",
   "id": "53bc40f9-0590-4e71-bfcb-7addd4c76bf4",
   "metadata": {
    "language": "python",
    "name": "cell7",
    "codeCollapsed": false,
    "resultHeight": 261
   },
   "outputs": [],
   "source": "from snowflake.snowpark.types import IntegerType, StringType\nfrom snowflake.snowpark.functions import udf\n\n# Define a UDF to classify movies\n@udf(return_type=StringType(), input_types=[IntegerType()])\ndef classify_revenue(total_revenue):\n    if total_revenue > 100:\n        return \"Blockbuster\"\n    elif total_revenue > 50:\n        return \"Hit\"\n    else:\n        return \"Average\"\n\n# Apply the UDF\nclassified_df = aggregated_df.with_column(\n    \"movie_category\", classify_revenue(col(\"total_revenue\"))\n)\n\n# Show classified data\nclassified_df.show()",
   "execution_count": null
  },
  {
   "cell_type": "code",
   "id": "ccd23ed4-52e7-4a47-9154-2215c3cdc42f",
   "metadata": {
    "language": "python",
    "name": "cell8",
    "codeCollapsed": false
   },
   "outputs": [],
   "source": "",
   "execution_count": null
  }
 ]
}